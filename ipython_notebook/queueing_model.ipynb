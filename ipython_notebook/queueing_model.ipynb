{
 "cells": [
  {
   "cell_type": "code",
   "execution_count": 4,
   "metadata": {
    "collapsed": false
   },
   "outputs": [
    {
     "name": "stdout",
     "output_type": "stream",
     "text": [
      "('Trials=', 100, 'times.')\n",
      "('Mean=', 6.916632038192895)\n",
      "('Standard diviation=', 2.355948010903465)\n"
     ]
    }
   ],
   "source": [
    "import pylab\n",
    "import random\n",
    "\n",
    "number_of_trials = 100\n",
    "\n",
    "## Here we simulate the repeated throwing of a single six-sided die\n",
    "list_of_values = []\n",
    "for i in range(number_of_trials):\n",
    "    list_of_values.append(random.normalvariate(7, 2.4))\n",
    "    \n",
    "print(\"Trials=\", number_of_trials, \"times.\")\n",
    "print(\"Mean=\", pylab.mean(list_of_values))\n",
    "print(\"Standard diviation=\",pylab.std(list_of_values))\n",
    "\n",
    "pylab.hist(list_of_values, bins=[0.5, 1.5, 2.5, 3.5, 4.5, 5.5, 6.5])\n",
    "pylab.xlabel(\"Value\")\n",
    "pylab.ylabel(\"Number of times\")\n",
    "pylab.show()"
   ]
  },
  {
   "cell_type": "code",
   "execution_count": null,
   "metadata": {
    "collapsed": true
   },
   "outputs": [],
   "source": []
  }
 ],
 "metadata": {
  "kernelspec": {
   "display_name": "Python 2",
   "language": "python",
   "name": "python2"
  },
  "language_info": {
   "codemirror_mode": {
    "name": "ipython",
    "version": 2
   },
   "file_extension": ".py",
   "mimetype": "text/x-python",
   "name": "python",
   "nbconvert_exporter": "python",
   "pygments_lexer": "ipython2",
   "version": "2.7.10"
  }
 },
 "nbformat": 4,
 "nbformat_minor": 0
}
